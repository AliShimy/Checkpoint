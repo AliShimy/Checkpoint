{
 "cells": [
  {
   "cell_type": "code",
   "execution_count": 1,
   "id": "0470161f",
   "metadata": {},
   "outputs": [],
   "source": [
    "import numpy as np"
   ]
  },
  {
   "cell_type": "code",
   "execution_count": 2,
   "id": "078d7ab4",
   "metadata": {},
   "outputs": [
    {
     "data": {
      "text/plain": [
       "[1, 2, 3]"
      ]
     },
     "execution_count": 2,
     "metadata": {},
     "output_type": "execute_result"
    }
   ],
   "source": [
    "new_array=np.array([1,2,3])\n",
    "new_array.tolist()"
   ]
  },
  {
   "cell_type": "code",
   "execution_count": 3,
   "id": "44d69efd",
   "metadata": {},
   "outputs": [
    {
     "name": "stdout",
     "output_type": "stream",
     "text": [
      "[[7 9 4]\n",
      " [8 4 5]\n",
      " [8 9 2]]\n",
      "13\n"
     ]
    }
   ],
   "source": [
    "array=np.random.randint(2, 10, size=(3,3))\n",
    "result =  np.trace(array)\n",
    "print(array)\n",
    "print(result)"
   ]
  },
  {
   "cell_type": "code",
   "execution_count": 5,
   "id": "e9f59da4",
   "metadata": {},
   "outputs": [
    {
     "name": "stdout",
     "output_type": "stream",
     "text": [
      "[[26 26 12]\n",
      " [10 23 26]\n",
      " [29 21 36]]\n",
      "[26 26 23 26 29 21 36]\n"
     ]
    }
   ],
   "source": [
    "y = np.random.randint(1,40, size=(3,3))\n",
    "x = 14\n",
    "print(y)\n",
    "print(y[y>x])"
   ]
  },
  {
   "cell_type": "code",
   "execution_count": 7,
   "id": "d9613ea9",
   "metadata": {},
   "outputs": [
    {
     "name": "stdout",
     "output_type": "stream",
     "text": [
      "[[19 14]\n",
      " [ 9 15]]\n"
     ]
    }
   ],
   "source": [
    "A = np.array([[14,9],[2,7]])\n",
    "B = np.array([[5,5],[7,8]])\n",
    "C = np.add(A,B)\n",
    "print(C)"
   ]
  },
  {
   "cell_type": "code",
   "execution_count": 8,
   "id": "f5deb62f",
   "metadata": {},
   "outputs": [],
   "source": [
    "#could not sollve"
   ]
  },
  {
   "cell_type": "code",
   "execution_count": null,
   "id": "17ea7ca2",
   "metadata": {},
   "outputs": [],
   "source": []
  }
 ],
 "metadata": {
  "kernelspec": {
   "display_name": "Python 3",
   "language": "python",
   "name": "python3"
  },
  "language_info": {
   "codemirror_mode": {
    "name": "ipython",
    "version": 3
   },
   "file_extension": ".py",
   "mimetype": "text/x-python",
   "name": "python",
   "nbconvert_exporter": "python",
   "pygments_lexer": "ipython3",
   "version": "3.8.8"
  }
 },
 "nbformat": 4,
 "nbformat_minor": 5
}
